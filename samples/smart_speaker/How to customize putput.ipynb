{
 "cells": [
  {
   "cell_type": "code",
   "execution_count": 1,
   "metadata": {
    "ExecuteTime": {
     "end_time": "2019-03-19T21:45:58.747998Z",
     "start_time": "2019-03-19T21:45:57.936654Z"
    }
   },
   "outputs": [],
   "source": [
    "import random\n",
    "from pathlib import Path\n",
    "from typing import Sequence\n",
    "from typing import Tuple\n",
    "\n",
    "from putput import ComboOptions\n",
    "from putput import Pipeline\n",
    "import random"
   ]
  },
  {
   "cell_type": "code",
   "execution_count": 2,
   "metadata": {
    "ExecuteTime": {
     "end_time": "2019-03-19T21:45:58.753005Z",
     "start_time": "2019-03-19T21:45:58.749878Z"
    }
   },
   "outputs": [],
   "source": [
    "pattern_def_path = Path('patterns.yml')"
   ]
  },
  {
   "cell_type": "code",
   "execution_count": 3,
   "metadata": {
    "ExecuteTime": {
     "end_time": "2019-03-19T21:45:58.758349Z",
     "start_time": "2019-03-19T21:45:58.755452Z"
    }
   },
   "outputs": [],
   "source": [
    "combo_options_map = {\n",
    "    'DEFAULT': ComboOptions(max_sample_size=5, with_replacement=False)\n",
    "}"
   ]
  },
  {
   "cell_type": "markdown",
   "metadata": {},
   "source": [
    "# The two pipeline stages:\n",
    "\n",
    "1) **Expansion**: expands the pattern definition file into an 'utterance_combo', 'tokens', and 'groups' for each utterance pattern.\n",
    "\n",
    "2) **Combination**: yields a sequence of 'utterance', 'handled_tokens', and 'handled_groups'\n",
    "- Applies handlers from 'token_handler_map' and 'group_handler_map' and is subject to constraints specified in 'combo_options_map'\n",
    "\n",
    "Each pipeline stage can be hooked into to alter it's output by defining an **expansion_hooks_map** and/or a **combo_hooks_map**"
   ]
  },
  {
   "cell_type": "markdown",
   "metadata": {},
   "source": [
    "## Expansion"
   ]
  },
  {
   "cell_type": "markdown",
   "metadata": {},
   "source": [
    "### Expansion Hook: default output"
   ]
  },
  {
   "cell_type": "code",
   "execution_count": 4,
   "metadata": {
    "ExecuteTime": {
     "end_time": "2019-03-19T21:45:58.763552Z",
     "start_time": "2019-03-19T21:45:58.759974Z"
    }
   },
   "outputs": [],
   "source": [
    "def print_expansion_hook(utterance_combination, tokens, groups):\n",
    "    print('utterance_combination: {}'.format(utterance_combination))\n",
    "    print('tokens: {}'.format(tokens))\n",
    "    print('groups: {}\\n'.format(groups))\n",
    "    return utterance_combination, tokens, groups"
   ]
  },
  {
   "cell_type": "code",
   "execution_count": 5,
   "metadata": {
    "ExecuteTime": {
     "end_time": "2019-03-19T21:45:58.767748Z",
     "start_time": "2019-03-19T21:45:58.765002Z"
    }
   },
   "outputs": [],
   "source": [
    "# Here we define the utterance patterns that we want to apply the hook to or in this case we specify DEFAULT \n",
    "# to apply it to all patterns\n",
    "expansion_hooks_map = {\n",
    "    'DEFAULT': (print_expansion_hook,)\n",
    "}"
   ]
  },
  {
   "cell_type": "code",
   "execution_count": 6,
   "metadata": {
    "ExecuteTime": {
     "end_time": "2019-03-19T21:45:58.782554Z",
     "start_time": "2019-03-19T21:45:58.770251Z"
    }
   },
   "outputs": [
    {
     "name": "stdout",
     "output_type": "stream",
     "text": [
      "This is the raw output of the expansion stage: \n",
      "\n",
      "utterance_combination: (('hey speaker', 'hey sound system'), ('play',), ('Tom Waits', 'Kanye'))\n",
      "tokens: ('WAKE', 'PLAY', 'ARTIST')\n",
      "groups: (('None', 1), ('PLAY_ARTIST', 2))\n",
      "\n",
      "utterance_combination: (('hey speaker', 'hey sound system'), ('play',), ('Tabletop Joe', 'Flashing Lights'))\n",
      "tokens: ('WAKE', 'PLAY', 'SONG')\n",
      "groups: (('None', 1), ('PLAY_SONG', 2))\n",
      "\n"
     ]
    }
   ],
   "source": [
    "p = Pipeline(pattern_def_path,\n",
    "             expansion_hooks_map=expansion_hooks_map,\n",
    "             combo_options_map=combo_options_map,\n",
    "            )\n",
    "print('This is the raw output of the expansion stage: \\n')\n",
    "x = [_ for _ in p.flow(disable_progress_bar=True)]"
   ]
  },
  {
   "cell_type": "markdown",
   "metadata": {},
   "source": [
    "### Expansion Hook: insert random words"
   ]
  },
  {
   "cell_type": "code",
   "execution_count": 7,
   "metadata": {
    "ExecuteTime": {
     "end_time": "2019-03-19T21:45:58.790889Z",
     "start_time": "2019-03-19T21:45:58.785301Z"
    }
   },
   "outputs": [],
   "source": [
    "def insert_random(utterance_component, chance):\n",
    "    new_utterance_component = []\n",
    "    random_words = ['hmm', 'uh', 'um', 'please']\n",
    "    for phrase in utterance_component:\n",
    "        if random.random() < chance:\n",
    "            words = phrase.split()\n",
    "            insert_index = random.randint(0, len(words))\n",
    "            random_word = random.choice(random_words)\n",
    "            words.insert(insert_index, random_word)\n",
    "            phrase = ' '.join(words)\n",
    "        new_utterance_component.append(phrase)\n",
    "    return tuple(new_utterance_component)"
   ]
  },
  {
   "cell_type": "markdown",
   "metadata": {},
   "source": [
    "This is a expansion hook for randomly inserting filler words"
   ]
  },
  {
   "cell_type": "code",
   "execution_count": 8,
   "metadata": {
    "ExecuteTime": {
     "end_time": "2019-03-19T21:45:58.796021Z",
     "start_time": "2019-03-19T21:45:58.792949Z"
    }
   },
   "outputs": [],
   "source": [
    "def insert_filler_randomly(utterance_combination, tokens, groups):\n",
    "    with_fillers = [insert_random(utterance_component, .6) for utterance_component in utterance_combination] \n",
    "    return tuple(with_fillers), tokens, groups"
   ]
  },
  {
   "cell_type": "markdown",
   "metadata": {},
   "source": [
    "This time we will specify that we only want to apply this hook to a specific pattern instead of DEFAULT.\n",
    "Note that we are also printing the output and that these hooks are applied in order."
   ]
  },
  {
   "cell_type": "code",
   "execution_count": 9,
   "metadata": {
    "ExecuteTime": {
     "end_time": "2019-03-19T21:45:58.800802Z",
     "start_time": "2019-03-19T21:45:58.797886Z"
    }
   },
   "outputs": [],
   "source": [
    "expansion_hooks_map = {\n",
    "    'WAKE, PLAY_ARTIST': (insert_filler_randomly, print_expansion_hook),\n",
    "    'WAKE, PLAY_SONG': (print_expansion_hook,)\n",
    "}"
   ]
  },
  {
   "cell_type": "code",
   "execution_count": 10,
   "metadata": {
    "ExecuteTime": {
     "end_time": "2019-03-19T21:45:58.812408Z",
     "start_time": "2019-03-19T21:45:58.803167Z"
    }
   },
   "outputs": [
    {
     "name": "stdout",
     "output_type": "stream",
     "text": [
      "This is the output of the expansion stage with random filler words: \n",
      "\n",
      "utterance_combination: (('hey speaker hmm', 'hey sound please system'), ('play hmm',), ('Tom Waits please', 'Kanye'))\n",
      "tokens: ('WAKE', 'PLAY', 'ARTIST')\n",
      "groups: (('None', 1), ('PLAY_ARTIST', 2))\n",
      "\n",
      "utterance_combination: (('hey speaker', 'hey sound system'), ('play',), ('Tabletop Joe', 'Flashing Lights'))\n",
      "tokens: ('WAKE', 'PLAY', 'SONG')\n",
      "groups: (('None', 1), ('PLAY_SONG', 2))\n",
      "\n"
     ]
    }
   ],
   "source": [
    "p = Pipeline(pattern_def_path,\n",
    "             expansion_hooks_map=expansion_hooks_map,\n",
    "             combo_options_map=combo_options_map,\n",
    "            )\n",
    "print('This is the output of the expansion stage with random filler words: \\n')\n",
    "x = [_ for _ in p.flow(disable_progress_bar=True)]"
   ]
  },
  {
   "cell_type": "markdown",
   "metadata": {},
   "source": [
    "We can see above that the random filler hook was only applied to the specified utterance pattern."
   ]
  },
  {
   "cell_type": "markdown",
   "metadata": {},
   "source": [
    "## Combination"
   ]
  },
  {
   "cell_type": "markdown",
   "metadata": {},
   "source": [
    "### Combination Hook: default output"
   ]
  },
  {
   "cell_type": "code",
   "execution_count": 11,
   "metadata": {
    "ExecuteTime": {
     "end_time": "2019-03-19T21:45:58.817879Z",
     "start_time": "2019-03-19T21:45:58.813962Z"
    }
   },
   "outputs": [],
   "source": [
    "def print_combination_hook(utterance, handled_tokens, handled_groups):\n",
    "    print('utterance: {}'.format(utterance))\n",
    "    print('handled_tokens: {}'.format(handled_tokens))\n",
    "    print('handled_groups: {}\\n'.format(handled_groups))\n",
    "    return utterance, handled_tokens, handled_groups"
   ]
  },
  {
   "cell_type": "code",
   "execution_count": 12,
   "metadata": {
    "ExecuteTime": {
     "end_time": "2019-03-19T21:45:58.822717Z",
     "start_time": "2019-03-19T21:45:58.820002Z"
    }
   },
   "outputs": [],
   "source": [
    "combo_hooks_map = {\n",
    "    'DEFAULT': (print_combination_hook,)\n",
    "}"
   ]
  },
  {
   "cell_type": "code",
   "execution_count": 13,
   "metadata": {
    "ExecuteTime": {
     "end_time": "2019-03-19T21:45:58.840674Z",
     "start_time": "2019-03-19T21:45:58.825227Z"
    }
   },
   "outputs": [
    {
     "name": "stdout",
     "output_type": "stream",
     "text": [
      "This is the raw output of the combination stage: \n",
      "\n",
      "utterance: hey sound system play Kanye\n",
      "handled_tokens: ('[WAKE(hey sound system)]', '[PLAY(play)]', '[ARTIST(Kanye)]')\n",
      "handled_groups: ('{None([WAKE(hey sound system)])}', '{PLAY_ARTIST([PLAY(play)] [ARTIST(Kanye)])}')\n",
      "\n",
      "utterance: hey speaker play Tom Waits\n",
      "handled_tokens: ('[WAKE(hey speaker)]', '[PLAY(play)]', '[ARTIST(Tom Waits)]')\n",
      "handled_groups: ('{None([WAKE(hey speaker)])}', '{PLAY_ARTIST([PLAY(play)] [ARTIST(Tom Waits)])}')\n",
      "\n",
      "utterance: hey speaker play Kanye\n",
      "handled_tokens: ('[WAKE(hey speaker)]', '[PLAY(play)]', '[ARTIST(Kanye)]')\n",
      "handled_groups: ('{None([WAKE(hey speaker)])}', '{PLAY_ARTIST([PLAY(play)] [ARTIST(Kanye)])}')\n",
      "\n",
      "utterance: hey sound system play Tom Waits\n",
      "handled_tokens: ('[WAKE(hey sound system)]', '[PLAY(play)]', '[ARTIST(Tom Waits)]')\n",
      "handled_groups: ('{None([WAKE(hey sound system)])}', '{PLAY_ARTIST([PLAY(play)] [ARTIST(Tom Waits)])}')\n",
      "\n",
      "utterance: hey speaker play Flashing Lights\n",
      "handled_tokens: ('[WAKE(hey speaker)]', '[PLAY(play)]', '[SONG(Flashing Lights)]')\n",
      "handled_groups: ('{None([WAKE(hey speaker)])}', '{PLAY_SONG([PLAY(play)] [SONG(Flashing Lights)])}')\n",
      "\n",
      "utterance: hey sound system play Flashing Lights\n",
      "handled_tokens: ('[WAKE(hey sound system)]', '[PLAY(play)]', '[SONG(Flashing Lights)]')\n",
      "handled_groups: ('{None([WAKE(hey sound system)])}', '{PLAY_SONG([PLAY(play)] [SONG(Flashing Lights)])}')\n",
      "\n",
      "utterance: hey sound system play Tabletop Joe\n",
      "handled_tokens: ('[WAKE(hey sound system)]', '[PLAY(play)]', '[SONG(Tabletop Joe)]')\n",
      "handled_groups: ('{None([WAKE(hey sound system)])}', '{PLAY_SONG([PLAY(play)] [SONG(Tabletop Joe)])}')\n",
      "\n",
      "utterance: hey speaker play Tabletop Joe\n",
      "handled_tokens: ('[WAKE(hey speaker)]', '[PLAY(play)]', '[SONG(Tabletop Joe)]')\n",
      "handled_groups: ('{None([WAKE(hey speaker)])}', '{PLAY_SONG([PLAY(play)] [SONG(Tabletop Joe)])}')\n",
      "\n"
     ]
    }
   ],
   "source": [
    "p = Pipeline(pattern_def_path,\n",
    "             combo_hooks_map=combo_hooks_map,\n",
    "             combo_options_map=combo_options_map,\n",
    "            )\n",
    "print('This is the raw output of the combination stage: \\n')\n",
    "x = [_ for _ in p.flow(disable_progress_bar=True)]"
   ]
  },
  {
   "cell_type": "markdown",
   "metadata": {},
   "source": [
    "### Combination Hook: extract tokens and groups "
   ]
  },
  {
   "cell_type": "code",
   "execution_count": 14,
   "metadata": {
    "ExecuteTime": {
     "end_time": "2019-03-19T21:45:58.845752Z",
     "start_time": "2019-03-19T21:45:58.842140Z"
    }
   },
   "outputs": [],
   "source": [
    "def token_extractor(handled_item):\n",
    "    return handled_item[handled_item.index('[') + 1: handled_item.index('(')]\n",
    "\n",
    "def group_name_extractor(handled_group):\n",
    "    return handled_group[handled_group.index('{') + 1: handled_group.index('(')]"
   ]
  },
  {
   "cell_type": "code",
   "execution_count": 15,
   "metadata": {
    "ExecuteTime": {
     "end_time": "2019-03-19T21:45:58.852021Z",
     "start_time": "2019-03-19T21:45:58.848020Z"
    }
   },
   "outputs": [],
   "source": [
    "def extract_tokens_and_groups(utterance, handled_tokens, handled_groups):\n",
    "    print('utterance: {}'.format(utterance))\n",
    "    print('handled_tokens: {}'.format(list(map(token_extractor, handled_tokens))))\n",
    "    print('handled_groups: {}\\n'.format(list(map(group_name_extractor, handled_groups))))\n",
    "    return utterance, handled_tokens, handled_groups"
   ]
  },
  {
   "cell_type": "code",
   "execution_count": 16,
   "metadata": {
    "ExecuteTime": {
     "end_time": "2019-03-19T21:45:58.856643Z",
     "start_time": "2019-03-19T21:45:58.854118Z"
    }
   },
   "outputs": [],
   "source": [
    "combo_hooks_map = {\n",
    "    'DEFAULT': (extract_tokens_and_groups,)\n",
    "}"
   ]
  },
  {
   "cell_type": "code",
   "execution_count": 17,
   "metadata": {
    "ExecuteTime": {
     "end_time": "2019-03-19T21:45:58.870501Z",
     "start_time": "2019-03-19T21:45:58.858192Z"
    }
   },
   "outputs": [
    {
     "name": "stdout",
     "output_type": "stream",
     "text": [
      "This is the output of the combination stage after we extract tokens and groups: \n",
      "\n",
      "utterance: hey speaker play Tom Waits\n",
      "handled_tokens: ['WAKE', 'PLAY', 'ARTIST']\n",
      "handled_groups: ['None', 'PLAY_ARTIST']\n",
      "\n",
      "utterance: hey speaker play Kanye\n",
      "handled_tokens: ['WAKE', 'PLAY', 'ARTIST']\n",
      "handled_groups: ['None', 'PLAY_ARTIST']\n",
      "\n",
      "utterance: hey sound system play Tom Waits\n",
      "handled_tokens: ['WAKE', 'PLAY', 'ARTIST']\n",
      "handled_groups: ['None', 'PLAY_ARTIST']\n",
      "\n",
      "utterance: hey sound system play Kanye\n",
      "handled_tokens: ['WAKE', 'PLAY', 'ARTIST']\n",
      "handled_groups: ['None', 'PLAY_ARTIST']\n",
      "\n",
      "utterance: hey sound system play Flashing Lights\n",
      "handled_tokens: ['WAKE', 'PLAY', 'SONG']\n",
      "handled_groups: ['None', 'PLAY_SONG']\n",
      "\n",
      "utterance: hey speaker play Flashing Lights\n",
      "handled_tokens: ['WAKE', 'PLAY', 'SONG']\n",
      "handled_groups: ['None', 'PLAY_SONG']\n",
      "\n",
      "utterance: hey sound system play Tabletop Joe\n",
      "handled_tokens: ['WAKE', 'PLAY', 'SONG']\n",
      "handled_groups: ['None', 'PLAY_SONG']\n",
      "\n",
      "utterance: hey speaker play Tabletop Joe\n",
      "handled_tokens: ['WAKE', 'PLAY', 'SONG']\n",
      "handled_groups: ['None', 'PLAY_SONG']\n",
      "\n"
     ]
    }
   ],
   "source": [
    "p = Pipeline(pattern_def_path,\n",
    "             combo_hooks_map=combo_hooks_map,\n",
    "             combo_options_map=combo_options_map,\n",
    "            )\n",
    "print('This is the output of the combination stage after we extract tokens and groups: \\n')\n",
    "x = [_ for _ in p.flow(disable_progress_bar=True)]"
   ]
  },
  {
   "cell_type": "markdown",
   "metadata": {},
   "source": [
    "# Token and Group Handlers"
   ]
  },
  {
   "cell_type": "code",
   "execution_count": 18,
   "metadata": {
    "ExecuteTime": {
     "end_time": "2019-03-19T21:45:58.878480Z",
     "start_time": "2019-03-19T21:45:58.872512Z"
    }
   },
   "outputs": [],
   "source": [
    "def _iob_token_handler(token, phrase):\n",
    "    tokens = ['{}-{}'.format('B' if i == 0 else 'I', token)\n",
    "              for i, _ in enumerate(phrase.replace(\" '\", \"'\").split())]\n",
    "    return ' '.join(tokens)\n",
    "\n",
    "def _iob_group_handler(group_name, handled_tokens):\n",
    "    num_tokens = 0\n",
    "    for tokenized_phrase in handled_tokens:\n",
    "        num_tokens += len(tokenized_phrase.split())\n",
    "    groups = ['{}-{}'.format('B' if i == 0 else 'I', group_name)\n",
    "              for i in range(num_tokens)]\n",
    "    return ' '.join(groups)"
   ]
  },
  {
   "cell_type": "code",
   "execution_count": 19,
   "metadata": {
    "ExecuteTime": {
     "end_time": "2019-03-19T21:45:58.883497Z",
     "start_time": "2019-03-19T21:45:58.880639Z"
    }
   },
   "outputs": [],
   "source": [
    "token_handler_map = {'DEFAULT': _iob_token_handler}\n",
    "group_handler_map = {'DEFAULT': _iob_group_handler}"
   ]
  },
  {
   "cell_type": "code",
   "execution_count": 20,
   "metadata": {
    "ExecuteTime": {
     "end_time": "2019-03-19T21:45:58.902102Z",
     "start_time": "2019-03-19T21:45:58.886360Z"
    }
   },
   "outputs": [
    {
     "name": "stdout",
     "output_type": "stream",
     "text": [
      "This is the output after applying the token and group handlers to convert to IOB format: \n",
      "\n",
      "utterance: hey speaker play Kanye\n",
      "tokens: B-WAKE I-WAKE B-PLAY B-ARTIST\n",
      "groups: B-None I-None B-PLAY_ARTIST I-PLAY_ARTIST\n",
      "\n",
      "utterance: hey sound system play Tom Waits\n",
      "tokens: B-WAKE I-WAKE I-WAKE B-PLAY B-ARTIST I-ARTIST\n",
      "groups: B-None I-None I-None B-PLAY_ARTIST I-PLAY_ARTIST I-PLAY_ARTIST\n",
      "\n",
      "utterance: hey speaker play Tom Waits\n",
      "tokens: B-WAKE I-WAKE B-PLAY B-ARTIST I-ARTIST\n",
      "groups: B-None I-None B-PLAY_ARTIST I-PLAY_ARTIST I-PLAY_ARTIST\n",
      "\n",
      "utterance: hey sound system play Kanye\n",
      "tokens: B-WAKE I-WAKE I-WAKE B-PLAY B-ARTIST\n",
      "groups: B-None I-None I-None B-PLAY_ARTIST I-PLAY_ARTIST\n",
      "\n",
      "utterance: hey speaker play Flashing Lights\n",
      "tokens: B-WAKE I-WAKE B-PLAY B-SONG I-SONG\n",
      "groups: B-None I-None B-PLAY_SONG I-PLAY_SONG I-PLAY_SONG\n",
      "\n",
      "utterance: hey sound system play Tabletop Joe\n",
      "tokens: B-WAKE I-WAKE I-WAKE B-PLAY B-SONG I-SONG\n",
      "groups: B-None I-None I-None B-PLAY_SONG I-PLAY_SONG I-PLAY_SONG\n",
      "\n",
      "utterance: hey sound system play Flashing Lights\n",
      "tokens: B-WAKE I-WAKE I-WAKE B-PLAY B-SONG I-SONG\n",
      "groups: B-None I-None I-None B-PLAY_SONG I-PLAY_SONG I-PLAY_SONG\n",
      "\n",
      "utterance: hey speaker play Tabletop Joe\n",
      "tokens: B-WAKE I-WAKE B-PLAY B-SONG I-SONG\n",
      "groups: B-None I-None B-PLAY_SONG I-PLAY_SONG I-PLAY_SONG\n",
      "\n"
     ]
    }
   ],
   "source": [
    "p = Pipeline(pattern_def_path,\n",
    "             token_handler_map=token_handler_map,\n",
    "             group_handler_map=group_handler_map,\n",
    "             combo_options_map=combo_options_map,\n",
    "            )\n",
    "print('This is the output after applying the token and group handlers to convert to IOB format: \\n')\n",
    "for utterance, tokens, groups in p.flow(disable_progress_bar=True):\n",
    "    print('utterance: {}'.format(utterance))\n",
    "    print('tokens: {}'.format(' '.join(tokens)))\n",
    "    print('groups: {}\\n'.format(' '.join(groups)))"
   ]
  },
  {
   "cell_type": "code",
   "execution_count": null,
   "metadata": {},
   "outputs": [],
   "source": []
  }
 ],
 "metadata": {
  "kernelspec": {
   "display_name": "putput",
   "language": "python",
   "name": "putput"
  },
  "language_info": {
   "codemirror_mode": {
    "name": "ipython",
    "version": 3
   },
   "file_extension": ".py",
   "mimetype": "text/x-python",
   "name": "python",
   "nbconvert_exporter": "python",
   "pygments_lexer": "ipython3",
   "version": "3.7.2"
  }
 },
 "nbformat": 4,
 "nbformat_minor": 2
}
